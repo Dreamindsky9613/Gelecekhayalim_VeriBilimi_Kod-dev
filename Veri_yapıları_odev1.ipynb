{
  "cells": [
    {
      "cell_type": "markdown",
      "id": "032d81b2",
      "metadata": {
        "id": "032d81b2"
      },
      "source": [
        "# 1\n",
        "x = 3 ----> floata çevirelim. Çevirdikten sonra beri tipinide yazdıralım.\n",
        "\n",
        "y = 4.5 -----> integere çevirelim. Çevirdikten sonra beri tipinide yazdıralım.\n",
        "\n",
        "z = \"8\" -----> integera çevirelim. Çevirdikten sonra beri tipinide yazdıralım.\n",
        "\n",
        "a = \"12\" -----> floata çevirelim. Çevirdikten sonra beri tipinide yazdıralım.\n",
        "\n",
        "b = \"46.8\" ------> integera çevirelim. Çevirdikten sonra beri tipinide yazdıralım."
      ]
    },
    {
      "cell_type": "code",
      "execution_count": null,
      "id": "f1b735c0",
      "metadata": {
        "id": "f1b735c0",
        "outputId": "d139c62e-76b3-4d57-e580-273e8d24ae78",
        "colab": {
          "base_uri": "https://localhost:8080/"
        }
      },
      "outputs": [
        {
          "output_type": "stream",
          "name": "stdout",
          "text": [
            "3.0\n"
          ]
        }
      ],
      "source": [
        "x=3\n",
        "type(x)\n",
        "float(x)\n",
        "print(float(x))"
      ]
    },
    {
      "cell_type": "code",
      "source": [
        "y=4.5\n",
        "type(y)\n",
        "int(y)\n",
        "print(int(y))"
      ],
      "metadata": {
        "id": "130Imur1PLPf",
        "outputId": "6c6c469e-9de3-4ba2-dc27-4cef9980a9d0",
        "colab": {
          "base_uri": "https://localhost:8080/"
        }
      },
      "id": "130Imur1PLPf",
      "execution_count": null,
      "outputs": [
        {
          "output_type": "stream",
          "name": "stdout",
          "text": [
            "4\n"
          ]
        }
      ]
    },
    {
      "cell_type": "code",
      "source": [
        "z=\"8\"\n",
        "type(z)\n",
        "int(z)\n",
        "print(int(z))"
      ],
      "metadata": {
        "id": "9eq0_ZHPPVTN",
        "outputId": "857a5a97-89b7-4115-a045-e4071082187e",
        "colab": {
          "base_uri": "https://localhost:8080/"
        }
      },
      "id": "9eq0_ZHPPVTN",
      "execution_count": null,
      "outputs": [
        {
          "output_type": "stream",
          "name": "stdout",
          "text": [
            "8\n"
          ]
        }
      ]
    },
    {
      "cell_type": "code",
      "source": [
        "a=\"12\"\n",
        "type(a)\n",
        "float(a)\n",
        "print(float(a))"
      ],
      "metadata": {
        "id": "nz88y-8fPqtS",
        "outputId": "22c321ea-b68a-410d-f91f-7a56f589dc67",
        "colab": {
          "base_uri": "https://localhost:8080/"
        }
      },
      "id": "nz88y-8fPqtS",
      "execution_count": null,
      "outputs": [
        {
          "output_type": "stream",
          "name": "stdout",
          "text": [
            "12.0\n"
          ]
        }
      ]
    },
    {
      "cell_type": "code",
      "source": [
        "b=\"46.8\"\n",
        "type(b)\n",
        "int(b)\n",
        "print(int(b))"
      ],
      "metadata": {
        "id": "8sencb8UP-E3",
        "outputId": "a2c279cc-b564-49fc-9090-8e8338e0806a",
        "colab": {
          "base_uri": "https://localhost:8080/",
          "height": 190
        }
      },
      "id": "8sencb8UP-E3",
      "execution_count": null,
      "outputs": [
        {
          "output_type": "error",
          "ename": "ValueError",
          "evalue": "invalid literal for int() with base 10: '46.8'",
          "traceback": [
            "\u001b[0;31m---------------------------------------------------------------------------\u001b[0m",
            "\u001b[0;31mValueError\u001b[0m                                Traceback (most recent call last)",
            "\u001b[0;32m/tmp/ipython-input-2418126270.py\u001b[0m in \u001b[0;36m<cell line: 0>\u001b[0;34m()\u001b[0m\n\u001b[1;32m      1\u001b[0m \u001b[0mb\u001b[0m\u001b[0;34m=\u001b[0m\u001b[0;34m\"46.8\"\u001b[0m\u001b[0;34m\u001b[0m\u001b[0;34m\u001b[0m\u001b[0m\n\u001b[1;32m      2\u001b[0m \u001b[0mtype\u001b[0m\u001b[0;34m(\u001b[0m\u001b[0mb\u001b[0m\u001b[0;34m)\u001b[0m\u001b[0;34m\u001b[0m\u001b[0;34m\u001b[0m\u001b[0m\n\u001b[0;32m----> 3\u001b[0;31m \u001b[0mint\u001b[0m\u001b[0;34m(\u001b[0m\u001b[0mb\u001b[0m\u001b[0;34m)\u001b[0m\u001b[0;34m\u001b[0m\u001b[0;34m\u001b[0m\u001b[0m\n\u001b[0m\u001b[1;32m      4\u001b[0m \u001b[0mprint\u001b[0m\u001b[0;34m(\u001b[0m\u001b[0mint\u001b[0m\u001b[0;34m(\u001b[0m\u001b[0mb\u001b[0m\u001b[0;34m)\u001b[0m\u001b[0;34m)\u001b[0m\u001b[0;34m\u001b[0m\u001b[0;34m\u001b[0m\u001b[0m\n",
            "\u001b[0;31mValueError\u001b[0m: invalid literal for int() with base 10: '46.8'"
          ]
        }
      ]
    },
    {
      "cell_type": "markdown",
      "id": "95509718",
      "metadata": {
        "id": "95509718"
      },
      "source": [
        "# 2\n",
        "İsimlerden oluşan üç değişkene yaş değerleri atanır. Belirlenen üç değişken birbiriyle karşılaştırma operatörleri ile karşılaştırılır. Bu karşılaştırmalara mantıksal operatörler de eklenir."
      ]
    },
    {
      "cell_type": "code",
      "execution_count": null,
      "id": "50f77b4f",
      "metadata": {
        "id": "50f77b4f"
      },
      "outputs": [],
      "source": [
        "müşteri_no1= 25\n",
        "müşteri_no2= 28\n",
        "müşteri_no3= 32"
      ]
    },
    {
      "cell_type": "code",
      "source": [
        "müşteri_no1>müşteri_no2"
      ],
      "metadata": {
        "id": "IFQKPDaUQtN0",
        "outputId": "b229ea35-5372-4ac7-ca4e-721f347ba521",
        "colab": {
          "base_uri": "https://localhost:8080/"
        }
      },
      "id": "IFQKPDaUQtN0",
      "execution_count": null,
      "outputs": [
        {
          "output_type": "execute_result",
          "data": {
            "text/plain": [
              "False"
            ]
          },
          "metadata": {},
          "execution_count": 16
        }
      ]
    },
    {
      "cell_type": "code",
      "source": [
        "müşteri_no3|müşteri_no1"
      ],
      "metadata": {
        "id": "P2jQKptyQ3r2",
        "outputId": "f4823ae5-06da-4d94-f71a-b383c70e022f",
        "colab": {
          "base_uri": "https://localhost:8080/"
        }
      },
      "id": "P2jQKptyQ3r2",
      "execution_count": null,
      "outputs": [
        {
          "output_type": "execute_result",
          "data": {
            "text/plain": [
              "57"
            ]
          },
          "metadata": {},
          "execution_count": 17
        }
      ]
    },
    {
      "cell_type": "code",
      "source": [
        "müşteri_no1< müşteri_no2"
      ],
      "metadata": {
        "id": "sspcZNDNRLPb",
        "outputId": "6bfd405d-802c-4b08-d9dd-7672ac066188",
        "colab": {
          "base_uri": "https://localhost:8080/"
        }
      },
      "id": "sspcZNDNRLPb",
      "execution_count": null,
      "outputs": [
        {
          "output_type": "execute_result",
          "data": {
            "text/plain": [
              "True"
            ]
          },
          "metadata": {},
          "execution_count": 19
        }
      ]
    },
    {
      "cell_type": "code",
      "source": [
        "müşteri_no3> müşteri_no1"
      ],
      "metadata": {
        "id": "FCrNLeVZRTI3",
        "outputId": "143b99d4-6e91-4a34-df20-5e4ce385d0ff",
        "colab": {
          "base_uri": "https://localhost:8080/"
        }
      },
      "id": "FCrNLeVZRTI3",
      "execution_count": null,
      "outputs": [
        {
          "output_type": "execute_result",
          "data": {
            "text/plain": [
              "True"
            ]
          },
          "metadata": {},
          "execution_count": 20
        }
      ]
    },
    {
      "cell_type": "code",
      "source": [
        "müşteri_no3>müşteri_no2"
      ],
      "metadata": {
        "id": "r1HUYeMcRYA4",
        "outputId": "139ea446-222a-4c44-eb79-a7930c566bae",
        "colab": {
          "base_uri": "https://localhost:8080/"
        }
      },
      "id": "r1HUYeMcRYA4",
      "execution_count": null,
      "outputs": [
        {
          "output_type": "execute_result",
          "data": {
            "text/plain": [
              "True"
            ]
          },
          "metadata": {},
          "execution_count": 21
        }
      ]
    },
    {
      "cell_type": "code",
      "source": [
        "müşteri_no2>müşteri_no3"
      ],
      "metadata": {
        "id": "cqsfJV0ERjdb",
        "outputId": "640a877e-b982-4c34-f363-031b25eb9bfe",
        "colab": {
          "base_uri": "https://localhost:8080/"
        }
      },
      "id": "cqsfJV0ERjdb",
      "execution_count": null,
      "outputs": [
        {
          "output_type": "execute_result",
          "data": {
            "text/plain": [
              "False"
            ]
          },
          "metadata": {},
          "execution_count": 22
        }
      ]
    },
    {
      "cell_type": "markdown",
      "id": "a1a0eb92",
      "metadata": {
        "id": "a1a0eb92"
      },
      "source": [
        "# 3\n",
        "Kullanıcıdan iki değer girmesini istenir. Girilen değerlerin toplama, çıkarma, çarpma, bölme sonuçlarını yazdırılır."
      ]
    },
    {
      "cell_type": "code",
      "execution_count": null,
      "id": "c361e45a",
      "metadata": {
        "id": "c361e45a"
      },
      "outputs": [],
      "source": [
        "x= 32\n",
        "y= 45"
      ]
    },
    {
      "cell_type": "code",
      "source": [
        "x + y"
      ],
      "metadata": {
        "id": "FWEcRQFyRt6c",
        "outputId": "c66a839a-fb77-4146-b562-ff7bfa7c437f",
        "colab": {
          "base_uri": "https://localhost:8080/"
        }
      },
      "id": "FWEcRQFyRt6c",
      "execution_count": null,
      "outputs": [
        {
          "output_type": "execute_result",
          "data": {
            "text/plain": [
              "77"
            ]
          },
          "metadata": {},
          "execution_count": 24
        }
      ]
    },
    {
      "cell_type": "code",
      "source": [
        "x - y"
      ],
      "metadata": {
        "id": "PAUhBfLlRwgy",
        "outputId": "91314fe1-d256-45ec-f0a5-816dbf7ee377",
        "colab": {
          "base_uri": "https://localhost:8080/"
        }
      },
      "id": "PAUhBfLlRwgy",
      "execution_count": null,
      "outputs": [
        {
          "output_type": "execute_result",
          "data": {
            "text/plain": [
              "-13"
            ]
          },
          "metadata": {},
          "execution_count": 25
        }
      ]
    },
    {
      "cell_type": "code",
      "source": [
        "x * y"
      ],
      "metadata": {
        "id": "_AOKNGCwRzae",
        "outputId": "8501d774-1c9d-4a99-af9c-e3f3d395c654",
        "colab": {
          "base_uri": "https://localhost:8080/"
        }
      },
      "id": "_AOKNGCwRzae",
      "execution_count": null,
      "outputs": [
        {
          "output_type": "execute_result",
          "data": {
            "text/plain": [
              "1440"
            ]
          },
          "metadata": {},
          "execution_count": 26
        }
      ]
    },
    {
      "cell_type": "code",
      "source": [
        "x / y"
      ],
      "metadata": {
        "id": "oMYNJKxKR21S",
        "outputId": "484b9cb4-71c0-4d4b-838e-77f8bd3c46f4",
        "colab": {
          "base_uri": "https://localhost:8080/"
        }
      },
      "id": "oMYNJKxKR21S",
      "execution_count": null,
      "outputs": [
        {
          "output_type": "execute_result",
          "data": {
            "text/plain": [
              "0.7111111111111111"
            ]
          },
          "metadata": {},
          "execution_count": 27
        }
      ]
    },
    {
      "cell_type": "code",
      "source": [
        "x // y"
      ],
      "metadata": {
        "id": "kA67eyCCR5SR",
        "outputId": "a670e6b2-c8f3-403d-b788-6359280f17d4",
        "colab": {
          "base_uri": "https://localhost:8080/"
        }
      },
      "id": "kA67eyCCR5SR",
      "execution_count": null,
      "outputs": [
        {
          "output_type": "execute_result",
          "data": {
            "text/plain": [
              "0"
            ]
          },
          "metadata": {},
          "execution_count": 28
        }
      ]
    },
    {
      "cell_type": "markdown",
      "id": "060b0bea",
      "metadata": {
        "id": "060b0bea"
      },
      "source": [
        "# 4\n",
        "Kullanıcıdan isim, yaş, şehir ve meslek bilgilerini istenir ve cevaplarını yazdırılır."
      ]
    },
    {
      "cell_type": "code",
      "execution_count": null,
      "id": "6f5dea59",
      "metadata": {
        "id": "6f5dea59"
      },
      "outputs": [],
      "source": [
        "name = 'Aykut Elmas'\n",
        "age= 34\n",
        "city= 'Tekirdağ'\n",
        "job= 'Accounter'"
      ]
    },
    {
      "cell_type": "code",
      "source": [
        "name"
      ],
      "metadata": {
        "id": "C6Fogg6XSM7k",
        "outputId": "a8c4a6c4-f9f4-4f29-a450-bdaffa8df806",
        "colab": {
          "base_uri": "https://localhost:8080/",
          "height": 35
        }
      },
      "id": "C6Fogg6XSM7k",
      "execution_count": null,
      "outputs": [
        {
          "output_type": "execute_result",
          "data": {
            "text/plain": [
              "'Aykut Elmas'"
            ],
            "application/vnd.google.colaboratory.intrinsic+json": {
              "type": "string"
            }
          },
          "metadata": {},
          "execution_count": 30
        }
      ]
    },
    {
      "cell_type": "code",
      "source": [
        "age"
      ],
      "metadata": {
        "id": "IPjXYU4YSOrC",
        "outputId": "08387f60-b009-461e-df23-0ba89224e52e",
        "colab": {
          "base_uri": "https://localhost:8080/"
        }
      },
      "id": "IPjXYU4YSOrC",
      "execution_count": null,
      "outputs": [
        {
          "output_type": "execute_result",
          "data": {
            "text/plain": [
              "34"
            ]
          },
          "metadata": {},
          "execution_count": 31
        }
      ]
    },
    {
      "cell_type": "code",
      "source": [
        "city"
      ],
      "metadata": {
        "id": "Hsd3ar_gSQN9",
        "outputId": "df83fc96-a474-4e6c-ec39-723bbaf7b089",
        "colab": {
          "base_uri": "https://localhost:8080/",
          "height": 35
        }
      },
      "id": "Hsd3ar_gSQN9",
      "execution_count": null,
      "outputs": [
        {
          "output_type": "execute_result",
          "data": {
            "text/plain": [
              "'Tekirdağ'"
            ],
            "application/vnd.google.colaboratory.intrinsic+json": {
              "type": "string"
            }
          },
          "metadata": {},
          "execution_count": 32
        }
      ]
    },
    {
      "cell_type": "code",
      "source": [
        "job"
      ],
      "metadata": {
        "id": "OQxxaX9USSC-",
        "outputId": "a497d91b-b225-4fd1-d102-5a11ae8858a8",
        "colab": {
          "base_uri": "https://localhost:8080/",
          "height": 35
        }
      },
      "id": "OQxxaX9USSC-",
      "execution_count": null,
      "outputs": [
        {
          "output_type": "execute_result",
          "data": {
            "text/plain": [
              "'Accounter'"
            ],
            "application/vnd.google.colaboratory.intrinsic+json": {
              "type": "string"
            }
          },
          "metadata": {},
          "execution_count": 33
        }
      ]
    },
    {
      "cell_type": "markdown",
      "id": "55e1a34e",
      "metadata": {
        "id": "55e1a34e"
      },
      "source": [
        "# 5\n",
        "\"Hi-Kod Veri Bilimi Atölyesi\" ifadesini bir değişkene tanımlanır.\n",
        "\n",
        "\n",
        " 1. İfadedeki her bir kelimeyi (\"Hi-Kod\", \"Veri\", \"Bilimi\", \"Atölyesi\") değişken içinden seçilir.\n",
        " 2. İfadeyi hepsini büyük harf olacak hale çevrilir. (\"HI-KOD VERİ BİLİMİ ATÖLYESİ\")\n",
        " 3. İfadeyi hepsini büyük harf olacak hale çevrilir.(\"hi-kod veri bilimi atölyesi\")\n",
        "\n",
        "\"0123456789\" ifadesindeki yalnızca çift sayıları ve yalnızca tek sayıları seçilir. (\"02468\", \"13579\")"
      ]
    },
    {
      "cell_type": "code",
      "execution_count": null,
      "id": "0fc1bc40",
      "metadata": {
        "id": "0fc1bc40"
      },
      "outputs": [],
      "source": [
        "Gelecek_Hayalim_VeriBilimiAtölyesi= \"Hi-Kod Veri Bilimi atölyesi\""
      ]
    },
    {
      "cell_type": "code",
      "source": [
        "Gelecek_Hayalim_VeriBilimiAtölyesi.split()"
      ],
      "metadata": {
        "id": "2pahYbUnSgB2",
        "outputId": "fdc5ccbc-e56a-4505-948c-d300d8406e33",
        "colab": {
          "base_uri": "https://localhost:8080/"
        }
      },
      "id": "2pahYbUnSgB2",
      "execution_count": null,
      "outputs": [
        {
          "output_type": "execute_result",
          "data": {
            "text/plain": [
              "['Hi-Kod', 'Veri', 'Bilimi', 'atölyesi']"
            ]
          },
          "metadata": {},
          "execution_count": 36
        }
      ]
    },
    {
      "cell_type": "code",
      "source": [
        "if \"i\" in Gelecek_Hayalim_VeriBilimiAtölyesi:\n",
        "    print(\"i\")"
      ],
      "metadata": {
        "id": "fmL81U5fSzjK",
        "outputId": "c17952a6-fd5c-4c71-e5ab-4c4d7c35729d",
        "colab": {
          "base_uri": "https://localhost:8080/"
        }
      },
      "id": "fmL81U5fSzjK",
      "execution_count": null,
      "outputs": [
        {
          "output_type": "stream",
          "name": "stdout",
          "text": [
            "i\n"
          ]
        }
      ]
    },
    {
      "cell_type": "code",
      "source": [
        "\"k\""
      ],
      "metadata": {
        "id": "9b2fZ4cuTir2",
        "outputId": "e0094a5d-3e5a-47e8-a2ee-decd2cb030f4",
        "colab": {
          "base_uri": "https://localhost:8080/",
          "height": 35
        }
      },
      "id": "9b2fZ4cuTir2",
      "execution_count": null,
      "outputs": [
        {
          "output_type": "execute_result",
          "data": {
            "text/plain": [
              "'k'"
            ],
            "application/vnd.google.colaboratory.intrinsic+json": {
              "type": "string"
            }
          },
          "metadata": {},
          "execution_count": 42
        }
      ]
    },
    {
      "cell_type": "code",
      "source": [
        "Gelecek_Hayalim_VeriBilimiAtölyesi= Gelecek_Hayalim_VeriBilimiAtölyesi.upper()\n",
        "print(Gelecek_Hayalim_VeriBilimiAtölyesi)"
      ],
      "metadata": {
        "colab": {
          "base_uri": "https://localhost:8080/"
        },
        "id": "KMQuBEp4a9YH",
        "outputId": "f084a76a-4255-49ba-cdbb-63332537a3fe"
      },
      "id": "KMQuBEp4a9YH",
      "execution_count": null,
      "outputs": [
        {
          "output_type": "stream",
          "name": "stdout",
          "text": [
            "HI-KOD VERI BILIMI ATÖLYESI\n"
          ]
        }
      ]
    },
    {
      "cell_type": "code",
      "source": [
        "Gelecek_Hayalim_VeriBilimiAtölyesi= Gelecek_Hayalim_VeriBilimiAtölyesi.lower()\n",
        "print(Gelecek_Hayalim_VeriBilimiAtölyesi)"
      ],
      "metadata": {
        "id": "QNVF1b8tbOZ_",
        "outputId": "da715bfa-2fa7-40de-fbf3-3dcdd0446fd0",
        "colab": {
          "base_uri": "https://localhost:8080/"
        }
      },
      "id": "QNVF1b8tbOZ_",
      "execution_count": null,
      "outputs": [
        {
          "output_type": "stream",
          "name": "stdout",
          "text": [
            "hi-kod veri bilimi atölyesi\n"
          ]
        }
      ]
    },
    {
      "cell_type": "code",
      "source": [
        "sayılar= 0,1,2,3,4,5,6,7,8,9"
      ],
      "metadata": {
        "id": "kgLwZGhQcq-0"
      },
      "id": "kgLwZGhQcq-0",
      "execution_count": null,
      "outputs": []
    },
    {
      "cell_type": "code",
      "source": [
        "def çift_sayılar(numbers):\n",
        "    numbers= '0,2,4,6,8'\n",
        "sayı= 123456"
      ],
      "metadata": {
        "id": "jgFjwL_ydGGw"
      },
      "id": "jgFjwL_ydGGw",
      "execution_count": null,
      "outputs": []
    },
    {
      "cell_type": "code",
      "source": [
        "123456"
      ],
      "metadata": {
        "id": "r2WILOpQdTWK",
        "outputId": "f1161aef-aa8c-4e74-e1ed-5494f58bf6d7",
        "colab": {
          "base_uri": "https://localhost:8080/"
        }
      },
      "id": "r2WILOpQdTWK",
      "execution_count": null,
      "outputs": [
        {
          "output_type": "execute_result",
          "data": {
            "text/plain": [
              "123456"
            ]
          },
          "metadata": {},
          "execution_count": 129
        }
      ]
    },
    {
      "cell_type": "code",
      "source": [
        "sayı= 123456789\n",
        "tek_sayı= '1,3,5,7,9'\n",
        "çift_sayı= '0,2,4,6,8'\n",
        "print(çift_sayı)"
      ],
      "metadata": {
        "id": "mOAfQ0sRdnjL",
        "outputId": "ba6d5f16-0269-48d9-8e0a-7e4e1c73a7c4",
        "colab": {
          "base_uri": "https://localhost:8080/"
        }
      },
      "id": "mOAfQ0sRdnjL",
      "execution_count": null,
      "outputs": [
        {
          "output_type": "stream",
          "name": "stdout",
          "text": [
            "0,2,4,6,8\n"
          ]
        }
      ]
    },
    {
      "cell_type": "code",
      "source": [
        "print(tek_sayı)"
      ],
      "metadata": {
        "id": "HeTbohdUd1Ob",
        "outputId": "ec5b5e59-e0df-43d9-878a-cfab42c9c97d",
        "colab": {
          "base_uri": "https://localhost:8080/"
        }
      },
      "id": "HeTbohdUd1Ob",
      "execution_count": null,
      "outputs": [
        {
          "output_type": "stream",
          "name": "stdout",
          "text": [
            "1,3,5,7,9\n"
          ]
        }
      ]
    },
    {
      "cell_type": "code",
      "source": [
        "çift_sayılar= 2,4,6,8\n",
        "print(çift_sayılar)"
      ],
      "metadata": {
        "id": "IzVM8e8jc0rs",
        "outputId": "f79ace5e-d6f7-4d47-c12e-df6cba078ce0",
        "colab": {
          "base_uri": "https://localhost:8080/"
        }
      },
      "id": "IzVM8e8jc0rs",
      "execution_count": null,
      "outputs": [
        {
          "output_type": "stream",
          "name": "stdout",
          "text": [
            "(2, 4, 6, 8)\n"
          ]
        }
      ]
    },
    {
      "cell_type": "code",
      "source": [
        "def çift_sayılar(numbers):\n",
        "    numbers= 0,2,4,6,8\n"
      ],
      "metadata": {
        "id": "8eIvxpxobcnJ"
      },
      "id": "8eIvxpxobcnJ",
      "execution_count": null,
      "outputs": []
    },
    {
      "cell_type": "code",
      "source": [
        "sayılar= [0,1,2,3,4,5,6,7,8,9]\n"
      ],
      "metadata": {
        "id": "dArOQ-E0cGqA"
      },
      "id": "dArOQ-E0cGqA",
      "execution_count": null,
      "outputs": []
    },
    {
      "cell_type": "code",
      "source": [
        "def text(Kelime):\n",
        "  kelime = kelime.lower()\n",
        "  print(kelime)"
      ],
      "metadata": {
        "id": "pScPpNW6WMFm"
      },
      "id": "pScPpNW6WMFm",
      "execution_count": null,
      "outputs": []
    },
    {
      "cell_type": "code",
      "source": [
        "text= 'Normale göre hayat biraz hızlı gidiyor'\n",
        "text= text.lower()\n",
        "print(text)\n"
      ],
      "metadata": {
        "colab": {
          "base_uri": "https://localhost:8080/"
        },
        "id": "mvUKE9bKTvHK",
        "outputId": "573656d4-c9c1-40e8-8901-687877d5b00b"
      },
      "id": "mvUKE9bKTvHK",
      "execution_count": null,
      "outputs": [
        {
          "output_type": "stream",
          "name": "stdout",
          "text": [
            "normale göre hayat biraz hızlı gidiyor\n"
          ]
        }
      ]
    },
    {
      "cell_type": "code",
      "source": [
        "sentence1='Hayat'\n",
        "sentence1 = sentence1.upper()\n",
        "print(sentence1)"
      ],
      "metadata": {
        "id": "xzzudQ5pVv5U",
        "outputId": "e39be3bc-bb42-40b5-81bd-cace771df057",
        "colab": {
          "base_uri": "https://localhost:8080/"
        }
      },
      "id": "xzzudQ5pVv5U",
      "execution_count": null,
      "outputs": [
        {
          "output_type": "stream",
          "name": "stdout",
          "text": [
            "HAYAT\n"
          ]
        }
      ]
    },
    {
      "cell_type": "code",
      "source": [
        "def büyükharf_yapma(Kelime):\n",
        "    Kelime= kelime.upper()\n",
        "def küçükharf_yapma(Kelime):\n",
        "    Kelime= kelime.lower()\n",
        "\n",
        "\n",
        "\n"
      ],
      "metadata": {
        "id": "vc8VuZRdW7eh"
      },
      "id": "vc8VuZRdW7eh",
      "execution_count": null,
      "outputs": []
    },
    {
      "cell_type": "code",
      "source": [
        "Kelime= 'Normal Hayat'\n",
        "Kelime= Kelime.upper()\n",
        "print(Kelime)\n",
        "\n"
      ],
      "metadata": {
        "id": "q_MAaCXMZvlN",
        "outputId": "a16b4d99-107e-46ec-d72b-612fbfad5d5c",
        "colab": {
          "base_uri": "https://localhost:8080/"
        }
      },
      "id": "q_MAaCXMZvlN",
      "execution_count": null,
      "outputs": [
        {
          "output_type": "stream",
          "name": "stdout",
          "text": [
            "NORMAL HAYAT\n"
          ]
        }
      ]
    },
    {
      "cell_type": "code",
      "source": [
        "Sentence= 'Self confidence'\n",
        "Sentence= Sentence.lower()\n",
        "print(Sentence)"
      ],
      "metadata": {
        "id": "SrhbeSn_arB7",
        "outputId": "a5e34314-4083-42a0-f083-239909ce9555",
        "colab": {
          "base_uri": "https://localhost:8080/"
        }
      },
      "id": "SrhbeSn_arB7",
      "execution_count": null,
      "outputs": [
        {
          "output_type": "stream",
          "name": "stdout",
          "text": [
            "self confidence\n"
          ]
        }
      ]
    }
  ],
  "metadata": {
    "kernelspec": {
      "display_name": "Python 3 (ipykernel)",
      "language": "python",
      "name": "python3"
    },
    "language_info": {
      "codemirror_mode": {
        "name": "ipython",
        "version": 3
      },
      "file_extension": ".py",
      "mimetype": "text/x-python",
      "name": "python",
      "nbconvert_exporter": "python",
      "pygments_lexer": "ipython3",
      "version": "3.9.12"
    },
    "colab": {
      "provenance": []
    }
  },
  "nbformat": 4,
  "nbformat_minor": 5
}