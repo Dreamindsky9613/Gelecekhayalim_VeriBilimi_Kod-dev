{
  "cells": [
    {
      "cell_type": "markdown",
      "metadata": {
        "id": "tE9ZjH5lQn2-"
      },
      "source": [
        "### Ödev 1\n",
        "\n",
        "liste = [\"Python\",True,9,\"3\",8.4,\"Hi-Kod\",\"False\",4.7]\n",
        "\n",
        "1. Aşağıdaki işlemleri indexing ve slicing kullanarak liste üzerinde uygulayın.\n",
        "\n",
        "   - \"3\" değerine ulaşmak için indexleme yapın.\n",
        "   - \"Hi-Kod\" değerine ulaşmak için indexleme yapın.\n",
        "   - 4.7 değerine ulaşmak için indexleme yapın.\n",
        "   - 9,\"3\",8.4,\"Hi-Kod\" değerlerine ulaşmak için slicing yapın.\n",
        "   - 8.4,\"Hi-Kod\",\"False\",4.7 değerlerine ulaşmak için slicing yapın."
      ]
    },
    {
      "cell_type": "code",
      "execution_count": 42,
      "metadata": {
        "id": "AhOkYXjIQn3E"
      },
      "outputs": [],
      "source": [
        "my_liste= [\"Python\",True,9,\"3\",8.4,\"Hi-kod\",\"False\",4.7]"
      ]
    },
    {
      "cell_type": "code",
      "source": [
        "my_liste[3]"
      ],
      "metadata": {
        "colab": {
          "base_uri": "https://localhost:8080/",
          "height": 35
        },
        "id": "dkr-kKFbm7M2",
        "outputId": "6d196e55-ee73-49ed-c0a6-8e002207a311"
      },
      "execution_count": 43,
      "outputs": [
        {
          "output_type": "execute_result",
          "data": {
            "text/plain": [
              "'3'"
            ],
            "application/vnd.google.colaboratory.intrinsic+json": {
              "type": "string"
            }
          },
          "metadata": {},
          "execution_count": 43
        }
      ]
    },
    {
      "cell_type": "code",
      "source": [
        "my_liste[5]"
      ],
      "metadata": {
        "colab": {
          "base_uri": "https://localhost:8080/",
          "height": 35
        },
        "id": "qvV8fF5fnDqg",
        "outputId": "76aca4cb-14d2-4639-e721-651bbbc740b5"
      },
      "execution_count": 45,
      "outputs": [
        {
          "output_type": "execute_result",
          "data": {
            "text/plain": [
              "'Hi-kod'"
            ],
            "application/vnd.google.colaboratory.intrinsic+json": {
              "type": "string"
            }
          },
          "metadata": {},
          "execution_count": 45
        }
      ]
    },
    {
      "cell_type": "code",
      "source": [
        "my_liste[7]"
      ],
      "metadata": {
        "colab": {
          "base_uri": "https://localhost:8080/"
        },
        "id": "wliev_GunJ9b",
        "outputId": "fe4faa0d-b5ef-4192-e6fd-112a18492dc1"
      },
      "execution_count": 46,
      "outputs": [
        {
          "output_type": "execute_result",
          "data": {
            "text/plain": [
              "4.7"
            ]
          },
          "metadata": {},
          "execution_count": 46
        }
      ]
    },
    {
      "cell_type": "code",
      "source": [
        "my_liste[2:6]"
      ],
      "metadata": {
        "colab": {
          "base_uri": "https://localhost:8080/"
        },
        "id": "Y7urvUIQnPtZ",
        "outputId": "0d79fa84-2dc5-4de9-cf14-c5d38449eebd"
      },
      "execution_count": 47,
      "outputs": [
        {
          "output_type": "execute_result",
          "data": {
            "text/plain": [
              "[9, '3', 8.4, 'Hi-kod']"
            ]
          },
          "metadata": {},
          "execution_count": 47
        }
      ]
    },
    {
      "cell_type": "code",
      "source": [
        "my_liste[4:]"
      ],
      "metadata": {
        "colab": {
          "base_uri": "https://localhost:8080/"
        },
        "id": "8E9xkr5dnbGA",
        "outputId": "ae19fa3f-07e4-4dbc-96d5-5da5f0f171bd"
      },
      "execution_count": 48,
      "outputs": [
        {
          "output_type": "execute_result",
          "data": {
            "text/plain": [
              "[8.4, 'Hi-kod', 'False', 4.7]"
            ]
          },
          "metadata": {},
          "execution_count": 48
        }
      ]
    },
    {
      "cell_type": "markdown",
      "metadata": {
        "id": "PU_vatZVQn3E"
      },
      "source": [
        "### Ödev 2\n",
        "\n",
        "Verilen listede bulunan string veri tipindeki öğeleri yeni_liste isimli listeye eklenir.\n",
        "\n",
        "liste = [\"Python\",True,9,\"3\",8.4,\"Hi-Kod\",\"False\",4.7]"
      ]
    },
    {
      "cell_type": "code",
      "execution_count": 39,
      "metadata": {
        "id": "k036-a4qQn3F"
      },
      "outputs": [],
      "source": [
        "my_liste=[\"Python\",True,9,\"3\",8.4,\"Hi-Kod\",\"False\",4.7]"
      ]
    },
    {
      "cell_type": "code",
      "source": [
        "yeni_liste"
      ],
      "metadata": {
        "id": "b7W3dbdioXDP"
      },
      "execution_count": 40,
      "outputs": []
    },
    {
      "cell_type": "code",
      "source": [
        "yeni_list=liste\n",
        "print(yeni_list)"
      ],
      "metadata": {
        "colab": {
          "base_uri": "https://localhost:8080/"
        },
        "id": "QkfjNCYyog8Y",
        "outputId": "00ee1eeb-e588-4e0f-c2d8-07980b69cd8a"
      },
      "execution_count": 41,
      "outputs": [
        {
          "output_type": "stream",
          "name": "stdout",
          "text": [
            "['Python', 2, 4, 6, '8', 'How are you?', 9]\n"
          ]
        }
      ]
    },
    {
      "cell_type": "code",
      "source": [
        "names= [\"Serhat\",\"Zeynep\",\"Asım\",\"Sıla\"]\n",
        "enumerate(names,start=0)"
      ],
      "metadata": {
        "colab": {
          "base_uri": "https://localhost:8080/"
        },
        "id": "a-8uEFdRqHdd",
        "outputId": "80a452ba-36a3-4470-a036-a2f71b13eef7"
      },
      "execution_count": 37,
      "outputs": [
        {
          "output_type": "execute_result",
          "data": {
            "text/plain": [
              "<enumerate at 0x7fca924f57b0>"
            ]
          },
          "metadata": {},
          "execution_count": 37
        }
      ]
    },
    {
      "cell_type": "code",
      "source": [
        "del list"
      ],
      "metadata": {
        "id": "VQBgksY7uFRk"
      },
      "execution_count": 54,
      "outputs": []
    },
    {
      "cell_type": "code",
      "source": [
        "print(list(enumerate(names,start=0)))"
      ],
      "metadata": {
        "colab": {
          "base_uri": "https://localhost:8080/"
        },
        "id": "HU5d7ujFt91M",
        "outputId": "4b58a662-4482-42a9-f73e-38c35b34a7a8"
      },
      "execution_count": 55,
      "outputs": [
        {
          "output_type": "stream",
          "name": "stdout",
          "text": [
            "[(0, 'Serhat'), (1, 'Zeynep'), (2, 'Asım'), (3, 'Sıla')]\n"
          ]
        }
      ]
    },
    {
      "cell_type": "code",
      "source": [
        "enumerate(names)"
      ],
      "metadata": {
        "colab": {
          "base_uri": "https://localhost:8080/"
        },
        "id": "GuECRoN4rlNw",
        "outputId": "b71bd75e-6ea0-43a6-cf40-3b7e9dce63b6"
      },
      "execution_count": 31,
      "outputs": [
        {
          "output_type": "execute_result",
          "data": {
            "text/plain": [
              "<enumerate at 0x7fca924f04f0>"
            ]
          },
          "metadata": {},
          "execution_count": 31
        }
      ]
    },
    {
      "cell_type": "markdown",
      "metadata": {
        "id": "LKspMidRQn3G"
      },
      "source": [
        "### Ödev 3\n",
        "\n",
        "Enumerate methodunu araştırın ve aşağıdaki örneği enumerate methodu ile yapın."
      ]
    },
    {
      "cell_type": "code",
      "execution_count": null,
      "metadata": {
        "id": "uKwshjmAQn3G"
      },
      "outputs": [],
      "source": [
        "for index in range(len(meyveler)):\n",
        "\n",
        "    print(\"{}. indexte bulunan meyve: {}\".format(index,meyveler[index]))"
      ]
    },
    {
      "cell_type": "code",
      "source": [
        "meyveler = [\"kiraz\",\"elma\",\"çilek\",\"muz\",\"üzüm\",\"karpuz\"]\n",
        "for index in range(len(meyveler)):\n",
        " print(\"{}.indexinde bulunan meyve: {}\".format(index,enumerate(meyveler[0:])))\n",
        ""
      ],
      "metadata": {
        "colab": {
          "base_uri": "https://localhost:8080/"
        },
        "id": "uAjnPh_rvQpp",
        "outputId": "48cadab5-9fc9-44b5-8c7f-e14aefb47702"
      },
      "execution_count": 91,
      "outputs": [
        {
          "output_type": "stream",
          "name": "stdout",
          "text": [
            "0.indexinde bulunan meyve: <enumerate object at 0x7fca9258aa70>\n",
            "1.indexinde bulunan meyve: <enumerate object at 0x7fca9258aa70>\n",
            "2.indexinde bulunan meyve: <enumerate object at 0x7fca9258aa70>\n",
            "3.indexinde bulunan meyve: <enumerate object at 0x7fca9258aa70>\n",
            "4.indexinde bulunan meyve: <enumerate object at 0x7fca9258aa70>\n",
            "5.indexinde bulunan meyve: <enumerate object at 0x7fca9258aa70>\n"
          ]
        }
      ]
    },
    {
      "cell_type": "code",
      "source": [
        "meyveler=[\"elma\",\"kiraz\",\"çilek\",\"karpuz\",\"muz\",\"üzüm\"]\n",
        "for index,meyve in enumerate(meyveler,start=0):\n",
        "  print(\"{}.indexinde bulunan meyve: {}\".format(index,meyve))"
      ],
      "metadata": {
        "colab": {
          "base_uri": "https://localhost:8080/"
        },
        "id": "Z8oXw4PQzA5Q",
        "outputId": "028f7972-a0ee-4bec-9689-4368e67987be"
      },
      "execution_count": 95,
      "outputs": [
        {
          "output_type": "stream",
          "name": "stdout",
          "text": [
            "0.indexinde bulunan meyve: elma\n",
            "1.indexinde bulunan meyve: kiraz\n",
            "2.indexinde bulunan meyve: çilek\n",
            "3.indexinde bulunan meyve: karpuz\n",
            "4.indexinde bulunan meyve: muz\n",
            "5.indexinde bulunan meyve: üzüm\n"
          ]
        }
      ]
    },
    {
      "cell_type": "code",
      "source": [
        "öğrenciler=[\"ahmet\",\"sıla\",\"ahmet\",\"ayşe\",\"yıldız\"]\n",
        "for index,öğrenci in enumerate(öğrenciler,start=0):\n",
        "  print(\"{}.indexde bulunan öğrenci: {} dir.\".format(index,öğrenci))\n",
        ""
      ],
      "metadata": {
        "colab": {
          "base_uri": "https://localhost:8080/"
        },
        "id": "6U3_xZ9cwaI5",
        "outputId": "861149bd-4e40-43f0-a0b0-aeee770145aa"
      },
      "execution_count": 96,
      "outputs": [
        {
          "output_type": "stream",
          "name": "stdout",
          "text": [
            "0.indexde bulunan öğrenci: ahmet dir.\n",
            "1.indexde bulunan öğrenci: sıla dir.\n",
            "2.indexde bulunan öğrenci: ahmet dir.\n",
            "3.indexde bulunan öğrenci: ayşe dir.\n",
            "4.indexde bulunan öğrenci: yıldız dir.\n"
          ]
        }
      ]
    },
    {
      "cell_type": "markdown",
      "metadata": {
        "id": "ZmwK7TWhQn3H"
      },
      "source": []
    },
    {
      "cell_type": "markdown",
      "source": [
        "## Sozluk"
      ],
      "metadata": {
        "id": "M_DfcqxXQubL"
      }
    },
    {
      "cell_type": "markdown",
      "source": [
        "1. Bir sözlük oluşturulur ve bu sözlükte öğrencilerin isimleri ve Matematik, Fizik, Kimya notları tutulur. Kullanıcıdan isim ve ders ismi(Matematik, Fizik, Kimya) istenir ve bu bilgilere göre çıktı verilir."
      ],
      "metadata": {
        "id": "ZMXFFucEQxxD"
      }
    },
    {
      "cell_type": "markdown",
      "source": [
        "2. Sözlük üzerinde değerleri değiştirme, yeni değer ekleme, kullanıcıya ulaşmak istediği bilgileri sorma gibi uygulamalar yapın."
      ],
      "metadata": {
        "id": "8NJYTepzQ13V"
      }
    },
    {
      "cell_type": "code",
      "source": [
        "class_dictionary={\"Ahmet\": {\"Matematik\":56,\"Fizik\":78,\"Kimya\":97},\n",
        "                  \"Sıla\": {\"Matematik\":76,\"Fizik\":87,\"Kimya\":95},\n",
        "                  \"Hatice\": {\"Matematik\":84,\"Fizik\":98,\"Kimya\":79}}\n",
        "\n",
        "isim=input(\"Lütfen öğrencinin ismini giriniz:\")\n",
        "ders_ismi=input(\"Lütfen ders ismini giriniz:\")\n",
        "if isim in class_dictionary:\n",
        "   dersler= class_dictionary[isim]\n",
        "   if ders_ismi in dersler:\n",
        "      notu= dersler[ders_ismi]\n",
        "      print(f\"{isim} isimli kişinin {ders_ismi} dersinden aldığı {notu} budur.\")\n",
        "   else:\n",
        "      print(f\"{isim} isimli kişinin {ders_ismi} dersi puanı yer almamaktadır.\")\n",
        "\n",
        "else:\n",
        "    print(\"Girilen isimde öğrenci bulunmamaktadır.\")\n",
        ""
      ],
      "metadata": {
        "colab": {
          "base_uri": "https://localhost:8080/"
        },
        "id": "Lskt2LMa42kd",
        "outputId": "5ecbfc47-7514-4c0b-bf4f-73e2753022ce"
      },
      "execution_count": 19,
      "outputs": [
        {
          "output_type": "stream",
          "name": "stdout",
          "text": [
            "Lütfen öğrencinin ismini giriniz:Sıla\n",
            "Lütfen ders ismini giriniz:Matematik\n",
            "Sıla isimli kişinin Matematik dersinden aldığı 76 budur.\n"
          ]
        }
      ]
    },
    {
      "cell_type": "code",
      "source": [
        "öğrenciler={\"Ahmet\": {\"Matematik\": 56,\"Fizik\": 78,\"Kimya\":97},\n",
        "                  \"Sıla\": {\"Matematik\": 76,\"Fizik\": 87,\"Kimya\": 95},\n",
        "                  \"Hatice\": {\"Matematik\": 84,\"Fizik\": 98,\"Kimya\": 79}}\n",
        "isim=input(\"Eklemek istediğiniz öğrencinin ismini giriniz:\")\n",
        "ders_ismi=input(\"Bu öğrencinin eklemek istediğiniz dersin ismini giriniz:\")\n",
        "notu=(input(\"Bu öğrencinin {} dersinin notunu giriniz:\".format(ders_ismi)))\n",
        "\n",
        "öğrenciler[isim]={ders_ismi:notu}\n",
        "print(\"\\n Güncellenmiş Öğrenci Listesi \\n\")\n",
        "for öğrenciler, dersler in öğrenciler.items():\n",
        "    print(f\"{öğrenciler}: {dersler}\")\n",
        "if isim in öğrenciler:\n",
        "   print({\"isim\": {ders_ismi:notu }})\n",
        "else:\n",
        "  print(öğrenciler[isim].append({\"isim\":{ders_ismi:notu}}))\n",
        "\n",
        "beşlıklar=[\"isim\", \"Matematik\", \"Fizik\", \"Kimya\"]\n",
        "from tabulate import tabulate\n",
        "print(tabulate(öğrenciler,headers=[\"İsim\", \"Matematik\", \"Fizik\", \"Kimya\"],tablefmt=\"grid\"))\n",
        "\n",
        "\n"
      ],
      "metadata": {
        "colab": {
          "base_uri": "https://localhost:8080/"
        },
        "id": "9WMe3iysTk3L",
        "outputId": "1d301a0c-a4e1-4d3f-b21c-5dd8fea702c6"
      },
      "execution_count": 35,
      "outputs": [
        {
          "output_type": "stream",
          "name": "stdout",
          "text": [
            "Eklemek istediğiniz öğrencinin ismini giriniz:Zeynep\n",
            "Bu öğrencinin eklemek istediğiniz dersin ismini giriniz:Matematik\n",
            "Bu öğrencinin Matematik dersinin notunu giriniz:78\n",
            "\n",
            " Güncellenmiş Öğrenci Listesi \n",
            "\n",
            "Ahmet: {'Matematik': 56, 'Fizik': 78, 'Kimya': 97}\n",
            "Sıla: {'Matematik': 76, 'Fizik': 87, 'Kimya': 95}\n",
            "Hatice: {'Matematik': 84, 'Fizik': 98, 'Kimya': 79}\n",
            "Zeynep: {'Matematik': '78'}\n",
            "{'isim': {'Matematik': '78'}}\n",
            "+--------+\n",
            "| İsim   |\n",
            "+========+\n",
            "| Z      |\n",
            "+--------+\n",
            "| e      |\n",
            "+--------+\n",
            "| y      |\n",
            "+--------+\n",
            "| n      |\n",
            "+--------+\n",
            "| e      |\n",
            "+--------+\n",
            "| p      |\n",
            "+--------+\n"
          ]
        }
      ]
    },
    {
      "cell_type": "code",
      "source": [
        "öğrenciler['Ahmet']= \"Zeynep\"\n",
        "öğrenciler['Zeynep']= {\"ders_ismi1\" :'notu1',\"ders_ismi2\":'notu2',\"ders_ismi3\":'notu3'}\n",
        "ders_ismi1=input(\"{} isimli öğrencinin 1.dersinin ismini giriniz:\".format(isim))\n",
        "notu1=input(\"{} isimli öğrencinin {} aldığı notu giriniz:\".format(isim,ders_ismi1))\n",
        "ders_ismi2=input(\"{} isimli öğrencinin 2.dersinin ismini giriniz:\").format(isim)\n",
        "notu2=input(\"{} isimli öğrencinin {} dersinden aldığı notu giriniz:\".format(isim,ders_ismi2))\n",
        "ders_ismi3=input(\"{} isimli öğrencinin 3.dersinin ismini giriniz:\".format(isim))\n",
        "notu3=input(\"{} isimli öğrencinin {} dersinden aldığı notu giriniz:\".format(isim,ders_ismi3))\n",
        "print(\"\\n Güncel Öğrenci sözlüğü \\n\")\n",
        "\n",
        "\n",
        "from tabulate import tabulate\n",
        "veri=öğrenciler\n",
        "for veri in öğrenciler:\n",
        "    satır=[öğrenciler['isim'],{ders_ismi1:notu1,\n",
        "                             ders_ismi2:notu2,\n",
        "                             ders_ismi3:notu3}]\n",
        "headers={\"İsim\",\"Matematik\",\"Fizik\",\"Kimya\"}\n",
        "print(tabulate(veri,headers=[\"isim\",\"Matematik\",\"Fizik\",\"Kimya\"],tablefmt=\"grid\"))"
      ],
      "metadata": {
        "colab": {
          "base_uri": "https://localhost:8080/",
          "height": 360
        },
        "id": "7oDR6Ha6jHNW",
        "outputId": "6f27b85f-4720-4533-d474-4551ad5437f0"
      },
      "execution_count": 71,
      "outputs": [
        {
          "output_type": "stream",
          "name": "stdout",
          "text": [
            "serhat isimli öğrencinin 1.dersinin ismini giriniz:matematik\n",
            "serhat isimli öğrencinin matematik aldığı notu giriniz:98\n",
            "{} isimli öğrencinin 2.dersinin ismini giriniz:fizik\n",
            "serhat isimli öğrencinin fizik dersinden aldığı notu giriniz:96\n",
            "serhat isimli öğrencinin 3.dersinin ismini giriniz:kimya\n",
            "serhat isimli öğrencinin kimya dersinden aldığı notu giriniz:90\n",
            "\n",
            " Güncel Öğrenci sözlüğü \n",
            "\n"
          ]
        },
        {
          "output_type": "error",
          "ename": "KeyError",
          "evalue": "'isim'",
          "traceback": [
            "\u001b[0;31m---------------------------------------------------------------------------\u001b[0m",
            "\u001b[0;31mKeyError\u001b[0m                                  Traceback (most recent call last)",
            "\u001b[0;32m/tmp/ipython-input-1296962100.py\u001b[0m in \u001b[0;36m<cell line: 0>\u001b[0;34m()\u001b[0m\n\u001b[1;32m     13\u001b[0m \u001b[0mveri\u001b[0m\u001b[0;34m=\u001b[0m\u001b[0möğrenciler\u001b[0m\u001b[0;34m\u001b[0m\u001b[0;34m\u001b[0m\u001b[0m\n\u001b[1;32m     14\u001b[0m \u001b[0;32mfor\u001b[0m \u001b[0mveri\u001b[0m \u001b[0;32min\u001b[0m \u001b[0möğrenciler\u001b[0m\u001b[0;34m:\u001b[0m\u001b[0;34m\u001b[0m\u001b[0;34m\u001b[0m\u001b[0m\n\u001b[0;32m---> 15\u001b[0;31m     satır=[öğrenciler['isim'],{ders_ismi1:notu1,\n\u001b[0m\u001b[1;32m     16\u001b[0m                              \u001b[0mders_ismi2\u001b[0m\u001b[0;34m:\u001b[0m\u001b[0mnotu2\u001b[0m\u001b[0;34m,\u001b[0m\u001b[0;34m\u001b[0m\u001b[0;34m\u001b[0m\u001b[0m\n\u001b[1;32m     17\u001b[0m                              ders_ismi3:notu3}]\n",
            "\u001b[0;31mKeyError\u001b[0m: 'isim'"
          ]
        }
      ]
    },
    {
      "cell_type": "code",
      "source": [
        "öğrenci={\"isim\":\"Ali\",\n",
        "          \"yaş\": \"24\",\n",
        "         \"meslek\":\"mimar\"}\n",
        "öğrenci[\"yaş\"]= 34\n",
        "print(öğrenci)"
      ],
      "metadata": {
        "colab": {
          "base_uri": "https://localhost:8080/"
        },
        "id": "B6ovN7SIf4AJ",
        "outputId": "cc01287e-9882-468e-a035-e9b678b86bc2"
      },
      "execution_count": 51,
      "outputs": [
        {
          "output_type": "stream",
          "name": "stdout",
          "text": [
            "{'isim': 'Ali', 'yaş': 34, 'meslek': 'mimar'}\n"
          ]
        }
      ]
    }
  ],
  "metadata": {
    "language_info": {
      "name": "python"
    },
    "colab": {
      "provenance": []
    },
    "kernelspec": {
      "name": "python3",
      "display_name": "Python 3"
    }
  },
  "nbformat": 4,
  "nbformat_minor": 0
}