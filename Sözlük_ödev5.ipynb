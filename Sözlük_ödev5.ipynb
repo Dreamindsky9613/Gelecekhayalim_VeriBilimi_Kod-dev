{
  "nbformat": 4,
  "nbformat_minor": 0,
  "metadata": {
    "colab": {
      "provenance": []
    },
    "kernelspec": {
      "name": "python3",
      "display_name": "Python 3"
    },
    "language_info": {
      "name": "python"
    }
  },
  "cells": [
    {
      "cell_type": "markdown",
      "source": [
        "1. Bir Sözlük oluştur.Bu sözlükte öğrencilerin isimleri ve Matematik,Fizik ve Kimya notları tutulur.Kullanıcıdan isim ve ders ismi istenir ve çıktı verilir.\n",
        "\n",
        "2. Sözlük üzerinde değerleri değiştirme , değer ekleme,kullanıcıdan isim isteme gibi uygulamalr yapılır.\n"
      ],
      "metadata": {
        "id": "hPwRgpSoO6ff"
      }
    },
    {
      "cell_type": "code",
      "source": [
        "sözlük= {\"Ayhan Yılmaz\": {\"Matematik\": 65, \"Fizik\": 87 , \"Kimya\": 89},\n",
        "         \"Serhat Yıldız\": { \"Matematik\": 89, \"Fizik\": 85 , \"Kimya\": 90},\n",
        "         \"Zeynep Işık\": {\"Matematik\": 98 , \"Fizik\": 76, \"Kimya\": 76} }"
      ],
      "metadata": {
        "id": "idF6Pei1PxQG"
      },
      "execution_count": 2,
      "outputs": []
    },
    {
      "cell_type": "code",
      "source": [
        "isim= input(\"Lütfen bir öğrencinin ismini giriniz:\")\n",
        "ders_ismi= input(\"Lütfen {} isimli öğrencinin dersinin ismini giriniz:\".format(isim))\n",
        "print(\"{} isimli kişinin {} dersinden aldığı puanı mevcuttur.\".format(isim,ders_ismi))"
      ],
      "metadata": {
        "colab": {
          "base_uri": "https://localhost:8080/"
        },
        "id": "u7d90MCmQyz6",
        "outputId": "304195c8-cb26-413a-8e2a-c13018e1d05b"
      },
      "execution_count": 19,
      "outputs": [
        {
          "output_type": "stream",
          "name": "stdout",
          "text": [
            "Lütfen bir öğrencinin ismini giriniz:Zeynep Işık\n",
            "Lütfen Zeynep Işık isimli öğrencinin dersinin ismini giriniz:Kimya \n",
            "Zeynep Işık isimli kişinin Kimya  dersinden aldığı puanı mevcuttur.\n"
          ]
        }
      ]
    },
    {
      "cell_type": "code",
      "source": [
        "sözlük[\"Zeynep Işık\"][\"Biyoloji\"]: 45\n"
      ],
      "metadata": {
        "id": "jux7wfGyUq-4"
      },
      "execution_count": 22,
      "outputs": []
    },
    {
      "cell_type": "code",
      "source": [
        "sözlük"
      ],
      "metadata": {
        "colab": {
          "base_uri": "https://localhost:8080/"
        },
        "id": "4RXBgo23VPA0",
        "outputId": "98745fdf-b8e2-4966-d43a-2c65ff64193c"
      },
      "execution_count": 23,
      "outputs": [
        {
          "output_type": "execute_result",
          "data": {
            "text/plain": [
              "{'Ayhan Yılmaz': {'Matematik': 65, 'Fizik': 87, 'Kimya': 89},\n",
              " 'Serhat Yıldız': {'Matematik': 89, 'Fizik': 85, 'Kimya': 90},\n",
              " 'Zeynep Işık': {'Matematik': 98, 'Fizik': 76, 'Kimya': 76}}"
            ]
          },
          "metadata": {},
          "execution_count": 23
        }
      ]
    },
    {
      "cell_type": "code",
      "source": [
        "sözlük[\"meslek\"]= \"mimar\"\n",
        "print(sözlük)"
      ],
      "metadata": {
        "colab": {
          "base_uri": "https://localhost:8080/"
        },
        "id": "1-9C8shlXbPf",
        "outputId": "0e6b8a90-b292-4681-9b47-034343fea20a"
      },
      "execution_count": 35,
      "outputs": [
        {
          "output_type": "stream",
          "name": "stdout",
          "text": [
            "{'Ayhan Yılmaz': {'Matematik': 65, 'Fizik': 87, 'Kimya': 89}, 'Serhat Yıldız': {'Matematik': 89, 'Fizik': 85, 'Kimya': 90}, 'Zeynep Işık': {'Matematik': 98, 'Fizik': 76, 'Kimya': 76}, 'meslek': 'mimar'}\n"
          ]
        }
      ]
    },
    {
      "cell_type": "code",
      "source": [
        "sözlük.update({\"Meslek\": \"Mimar\",\"maaş\": 34.000})\n",
        "print(sözlük)"
      ],
      "metadata": {
        "colab": {
          "base_uri": "https://localhost:8080/"
        },
        "id": "MvmrMZz3XlQa",
        "outputId": "a99c9d5e-73db-439c-8f64-6c043b6b5bc0"
      },
      "execution_count": 36,
      "outputs": [
        {
          "output_type": "stream",
          "name": "stdout",
          "text": [
            "{'Ayhan Yılmaz': {'Matematik': 65, 'Fizik': 87, 'Kimya': 89}, 'Serhat Yıldız': {'Matematik': 89, 'Fizik': 85, 'Kimya': 90}, 'Zeynep Işık': {'Matematik': 98, 'Fizik': 76, 'Kimya': 76}, 'meslek': 'mimar', 'Meslek': 'Mimar', 'maaş': 34.0}\n"
          ]
        }
      ]
    }
  ]
}