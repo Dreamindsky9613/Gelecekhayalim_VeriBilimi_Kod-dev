{
  "cells": [
    {
      "cell_type": "markdown",
      "id": "409f0f4a",
      "metadata": {
        "id": "409f0f4a"
      },
      "source": [
        "**Ödev-1:** Kullanıcıdan maaş bilgisini istenir ve bu bilgiye göre maaşından ne kadar vergi kesileceğini hesaplanır. Kullanıcının geliri;\n",
        "\n",
        "1. 10000 ve altındaysa maaşından %5 kesinti olur.\n",
        "2. 25000 ve altındaysa maaşından %10 kesinti olur.\n",
        "3. 45000 ve altındaysa maaşından %25 kesinti olur.\n",
        "4. Diğer koşullarda %30 kesinti olur.\n",
        "\n",
        "Bu durumlara göre kullanıcının yeni maaşı yazdırılır."
      ]
    },
    {
      "cell_type": "code",
      "execution_count": 29,
      "id": "5246e510",
      "metadata": {
        "id": "5246e510",
        "colab": {
          "base_uri": "https://localhost:8080/"
        },
        "outputId": "9fe36f61-9f37-419a-f2d8-545767ef169f"
      },
      "outputs": [
        {
          "output_type": "stream",
          "name": "stdout",
          "text": [
            "Lütfen maaşınızı giriniz.30000\n",
            "İşlem sonucu: 30000\n"
          ]
        }
      ],
      "source": [
        "maaş= int(input(\"Lütfen maaşınızı giriniz.\"))\n",
        "if maaş<=10000:\n",
        "    işlem = maaş - maaş % 5\n",
        "    print(\"İşlem sonucu:\", işlem)\n",
        "elif  maaş<= 25000:\n",
        "     işlem = maaş - maaş%10\n",
        "     print(\"İşlem sonucu:\",işlem)\n",
        "elif maaş<= 45000:\n",
        "    işlem= maaş - maaş%25\n",
        "    print(\"İşlem sonucu:\", işlem)\n",
        "else:\n",
        "    işlem= maaş-maaş%30\n",
        "    print(\"İşlem sonucu:\", işlem)"
      ]
    },
    {
      "cell_type": "markdown",
      "id": "f5fe8798",
      "metadata": {
        "id": "f5fe8798"
      },
      "source": [
        "**Ödev-2:** Kullanıcıdan kullanıcı adı ve şifre oluşturmasını istenir. Şifrenin uzunluğu altı haneye ulaşmışsa hesabınız oluşturuldu mesajı alınır, altı haneden azsa altı haneli şifre oluşturması gerektiğinin mesajı alınır. *(Sadece koşul kullanılması yeterli.)*"
      ]
    },
    {
      "cell_type": "code",
      "execution_count": 38,
      "id": "6acffe57",
      "metadata": {
        "id": "6acffe57",
        "colab": {
          "base_uri": "https://localhost:8080/"
        },
        "outputId": "5f485bec-9313-447f-f985-8780d5ca3e36"
      },
      "outputs": [
        {
          "output_type": "stream",
          "name": "stdout",
          "text": [
            "Lütfen bir kullanıcı adını giriniz:anonim1\n",
            "Lütfen bir şifre oluşturunuz:987658\n",
            "Hesabınız oluşturuldu.\n"
          ]
        }
      ],
      "source": [
        "kullanıcı_adı= input(\"Lütfen bir kullanıcı adını giriniz:\")\n",
        "şifre= input(\"Lütfen bir şifre oluşturunuz:\")\n",
        "a = 0\n",
        "if len(şifre)==6:\n",
        "     print(\"Hesabınız oluşturuldu.\")\n",
        "\n",
        "elif len(şifre)<6:\n",
        "       print(\"Lütfen 6 haneli şifre oluşturun.\")\n",
        "a += 1"
      ]
    },
    {
      "cell_type": "markdown",
      "id": "aaccf11a",
      "metadata": {
        "id": "aaccf11a"
      },
      "source": [
        "**Ödev-3:** Bir önceki örnek geliştirilir.\n",
        "\n",
        "1. Kullanıcı girdiği şifre 5 ve 10 hane arasında olmak zorunda.\n",
        "2. Eğer bu koşula uyuyorsa \"Hesabınız oluşturuldu.\" mesajı alır.\n",
        "3. Koşulu sağlamıyorsa \"Lütfen girdiniz şifre 5 haneden az 10 haneden fazla olmasın!\" uyarısı alır.\n",
        "4. Bunu oluştururken kullanıcı istediğimiz şartlarda şifre oluşturana kadar sormaya devam eder"
      ]
    },
    {
      "cell_type": "code",
      "execution_count": 43,
      "id": "039e50dc",
      "metadata": {
        "id": "039e50dc",
        "colab": {
          "base_uri": "https://localhost:8080/"
        },
        "outputId": "7ad6c3ce-c16a-4acb-b9c4-641e840fd006"
      },
      "outputs": [
        {
          "output_type": "stream",
          "name": "stdout",
          "text": [
            "Lütfen kullanııcı adınızı giriniz:anonim2\n",
            "Lütfen bir şifre oluşturunuz:3456\n",
            "Lütfen girdiğiniz şifre 5 haneden az 10 haneden fazla olmasın!\n"
          ]
        }
      ],
      "source": [
        "kullanıcı_adı= input(\"Lütfen kullanııcı adınızı giriniz:\")\n",
        "şifre= input(\"Lütfen bir şifre oluşturunuz:\")\n",
        "a=0\n",
        "if 5<len(şifre)<10:\n",
        "   print(\"Hesabınız oluşturuldu.\")\n",
        "\n",
        "else:\n",
        "    print(\"Lütfen girdiğiniz şifre 5 haneden az 10 haneden fazla olmasın!\")\n",
        ""
      ]
    },
    {
      "cell_type": "code",
      "source": [
        "def kullanıcı_hesabı():\n",
        "    kullanıcı_adı= input(\"Lütfen bir kullanıcı adı giriniz:\")\n",
        "    şifre= input(\"Lütfen bir şifre oluşturunuz\")\n",
        "while True:\n",
        "    kullanıcı_adı= input(\"Lütfen kullanıcı adınızı giriniz:\")\n",
        "    şifre= input(\"Lütfen bir şifre oluşturunuz:\")\n",
        "    a = 0\n",
        "    if 5<len(şifre)<10:\n",
        "          print(\"hesabınız oluşturuldu.\")\n",
        "\n",
        "    else:\n",
        "      print(\"Lütfen giridğiniz şifre 5 haneden az 10 haneden fazla olmasın!\")"
      ],
      "metadata": {
        "colab": {
          "base_uri": "https://localhost:8080/",
          "height": 452
        },
        "id": "_Rmh3_UlX8yN",
        "outputId": "42c975cf-b5b9-4576-ee54-70f840ade84d"
      },
      "id": "_Rmh3_UlX8yN",
      "execution_count": 4,
      "outputs": [
        {
          "output_type": "stream",
          "name": "stdout",
          "text": [
            "Lütfen kullanıcı adınızı giriniz:anonim5\n",
            "Lütfen bir şifre oluşturunuz:56789\n",
            "Lütfen giridğiniz şifre 5 haneden az 10 haneden fazla olmasın!\n",
            "Lütfen kullanıcı adınızı giriniz:7689543\n",
            "Lütfen bir şifre oluşturunuz:768954321\n",
            "hesabınız oluşturuldu.\n"
          ]
        },
        {
          "output_type": "error",
          "ename": "KeyboardInterrupt",
          "evalue": "Interrupted by user",
          "traceback": [
            "\u001b[0;31m---------------------------------------------------------------------------\u001b[0m",
            "\u001b[0;31mKeyboardInterrupt\u001b[0m                         Traceback (most recent call last)",
            "\u001b[0;32m/tmp/ipython-input-3480975228.py\u001b[0m in \u001b[0;36m<cell line: 0>\u001b[0;34m()\u001b[0m\n\u001b[1;32m      3\u001b[0m     \u001b[0mşifre\u001b[0m\u001b[0;34m=\u001b[0m \u001b[0minput\u001b[0m\u001b[0;34m(\u001b[0m\u001b[0;34m\"Lütfen bir şifre oluşturunuz\"\u001b[0m\u001b[0;34m)\u001b[0m\u001b[0;34m\u001b[0m\u001b[0;34m\u001b[0m\u001b[0m\n\u001b[1;32m      4\u001b[0m \u001b[0;32mwhile\u001b[0m \u001b[0;32mTrue\u001b[0m\u001b[0;34m:\u001b[0m\u001b[0;34m\u001b[0m\u001b[0;34m\u001b[0m\u001b[0m\n\u001b[0;32m----> 5\u001b[0;31m     \u001b[0mkullanıcı_adı\u001b[0m\u001b[0;34m=\u001b[0m \u001b[0minput\u001b[0m\u001b[0;34m(\u001b[0m\u001b[0;34m\"Lütfen kullanıcı adınızı giriniz:\"\u001b[0m\u001b[0;34m)\u001b[0m\u001b[0;34m\u001b[0m\u001b[0;34m\u001b[0m\u001b[0m\n\u001b[0m\u001b[1;32m      6\u001b[0m     \u001b[0mşifre\u001b[0m\u001b[0;34m=\u001b[0m \u001b[0minput\u001b[0m\u001b[0;34m(\u001b[0m\u001b[0;34m\"Lütfen bir şifre oluşturunuz:\"\u001b[0m\u001b[0;34m)\u001b[0m\u001b[0;34m\u001b[0m\u001b[0;34m\u001b[0m\u001b[0m\n\u001b[1;32m      7\u001b[0m     \u001b[0ma\u001b[0m \u001b[0;34m=\u001b[0m \u001b[0;36m0\u001b[0m\u001b[0;34m\u001b[0m\u001b[0;34m\u001b[0m\u001b[0m\n",
            "\u001b[0;32m/usr/local/lib/python3.12/dist-packages/ipykernel/kernelbase.py\u001b[0m in \u001b[0;36mraw_input\u001b[0;34m(self, prompt)\u001b[0m\n\u001b[1;32m   1175\u001b[0m                 \u001b[0;34m\"raw_input was called, but this frontend does not support input requests.\"\u001b[0m\u001b[0;34m\u001b[0m\u001b[0;34m\u001b[0m\u001b[0m\n\u001b[1;32m   1176\u001b[0m             )\n\u001b[0;32m-> 1177\u001b[0;31m         return self._input_request(\n\u001b[0m\u001b[1;32m   1178\u001b[0m             \u001b[0mstr\u001b[0m\u001b[0;34m(\u001b[0m\u001b[0mprompt\u001b[0m\u001b[0;34m)\u001b[0m\u001b[0;34m,\u001b[0m\u001b[0;34m\u001b[0m\u001b[0;34m\u001b[0m\u001b[0m\n\u001b[1;32m   1179\u001b[0m             \u001b[0mself\u001b[0m\u001b[0;34m.\u001b[0m\u001b[0m_parent_ident\u001b[0m\u001b[0;34m[\u001b[0m\u001b[0;34m\"shell\"\u001b[0m\u001b[0;34m]\u001b[0m\u001b[0;34m,\u001b[0m\u001b[0;34m\u001b[0m\u001b[0;34m\u001b[0m\u001b[0m\n",
            "\u001b[0;32m/usr/local/lib/python3.12/dist-packages/ipykernel/kernelbase.py\u001b[0m in \u001b[0;36m_input_request\u001b[0;34m(self, prompt, ident, parent, password)\u001b[0m\n\u001b[1;32m   1217\u001b[0m             \u001b[0;32mexcept\u001b[0m \u001b[0mKeyboardInterrupt\u001b[0m\u001b[0;34m:\u001b[0m\u001b[0;34m\u001b[0m\u001b[0;34m\u001b[0m\u001b[0m\n\u001b[1;32m   1218\u001b[0m                 \u001b[0;31m# re-raise KeyboardInterrupt, to truncate traceback\u001b[0m\u001b[0;34m\u001b[0m\u001b[0;34m\u001b[0m\u001b[0m\n\u001b[0;32m-> 1219\u001b[0;31m                 \u001b[0;32mraise\u001b[0m \u001b[0mKeyboardInterrupt\u001b[0m\u001b[0;34m(\u001b[0m\u001b[0;34m\"Interrupted by user\"\u001b[0m\u001b[0;34m)\u001b[0m \u001b[0;32mfrom\u001b[0m \u001b[0;32mNone\u001b[0m\u001b[0;34m\u001b[0m\u001b[0;34m\u001b[0m\u001b[0m\n\u001b[0m\u001b[1;32m   1220\u001b[0m             \u001b[0;32mexcept\u001b[0m \u001b[0mException\u001b[0m\u001b[0;34m:\u001b[0m\u001b[0;34m\u001b[0m\u001b[0;34m\u001b[0m\u001b[0m\n\u001b[1;32m   1221\u001b[0m                 \u001b[0mself\u001b[0m\u001b[0;34m.\u001b[0m\u001b[0mlog\u001b[0m\u001b[0;34m.\u001b[0m\u001b[0mwarning\u001b[0m\u001b[0;34m(\u001b[0m\u001b[0;34m\"Invalid Message:\"\u001b[0m\u001b[0;34m,\u001b[0m \u001b[0mexc_info\u001b[0m\u001b[0;34m=\u001b[0m\u001b[0;32mTrue\u001b[0m\u001b[0;34m)\u001b[0m\u001b[0;34m\u001b[0m\u001b[0;34m\u001b[0m\u001b[0m\n",
            "\u001b[0;31mKeyboardInterrupt\u001b[0m: Interrupted by user"
          ]
        }
      ]
    },
    {
      "cell_type": "markdown",
      "id": "8ba81863",
      "metadata": {
        "id": "8ba81863"
      },
      "source": [
        "**Ödev-4:** Kullanıcıdan isim ve şifre isteyeceğiz ve şifre girişi için üç hak verilir.\n",
        "\n",
        "1. Eğer önceden tanımlı şifre ile kullanıcıdan gelen şifre aynıysa \"Giriş yapıldı.\" yazar.\n",
        "2. Şifre girişi yanlışsa \"Yanlış şifre girildi!\" uyarısı verilsin ve üç yanlış denemede program biter.\n",
        "3. Tercihe göre kalan hak bilgisi verilir."
      ]
    },
    {
      "cell_type": "code",
      "execution_count": 3,
      "id": "8f45ea0c",
      "metadata": {
        "id": "8f45ea0c",
        "colab": {
          "base_uri": "https://localhost:8080/"
        },
        "outputId": "4e9b1e20-ce43-4cee-d9fd-d0eb356fb150"
      },
      "outputs": [
        {
          "output_type": "stream",
          "name": "stdout",
          "text": [
            "Lütfen bir kullanıcı adı giriniz:anonim4\n",
            "Lütfen bir şifre oluşturunuz.897654\n",
            "Yanlış şifre girildi.\n"
          ]
        }
      ],
      "source": [
        "önceki_şifre= 234567\n",
        "kullanıcı_adı= input(\"Lütfen bir kullanıcı adı giriniz:\")\n",
        "kullanıcı_şifre= input(\"Lütfen bir şifre oluşturunuz.\")\n",
        "if önceki_şifre== kullanıcı_şifre:\n",
        "  print(\"Giriş yapıldı\")\n",
        "elif önceki_şifre != kullanıcı_şifre:\n",
        "  print(\"Yanlış şifre girildi.\")\n",
        "else:\n",
        "  print(\"3 hakkınız vardır.\")"
      ]
    }
  ],
  "metadata": {
    "kernelspec": {
      "display_name": "Python 3 (ipykernel)",
      "language": "python",
      "name": "python3"
    },
    "language_info": {
      "codemirror_mode": {
        "name": "ipython",
        "version": 3
      },
      "file_extension": ".py",
      "mimetype": "text/x-python",
      "name": "python",
      "nbconvert_exporter": "python",
      "pygments_lexer": "ipython3",
      "version": "3.9.12"
    },
    "colab": {
      "provenance": []
    }
  },
  "nbformat": 4,
  "nbformat_minor": 5
}