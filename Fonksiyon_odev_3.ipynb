{
  "cells": [
    {
      "cell_type": "markdown",
      "metadata": {
        "id": "QRr7iwQjDpVd"
      },
      "source": [
        "#### Ödev 1\n",
        "Kullanıcıdan pi değeri ve yarıçap bilgisi alarak dairenin alanını hesaplayan bir fonksiyon oluşturulur."
      ]
    },
    {
      "cell_type": "code",
      "execution_count": 4,
      "metadata": {
        "vscode": {
          "languageId": "plaintext"
        },
        "id": "yqBVVdkJDpVf",
        "colab": {
          "base_uri": "https://localhost:8080/"
        },
        "outputId": "2d804739-6a70-4a06-c571-b7287efbcb5f"
      },
      "outputs": [
        {
          "output_type": "stream",
          "name": "stdout",
          "text": [
            "Lütfen bir pi değeri giriniz:3\n",
            "Lütfen yarıçap bilgisini giriniz:12\n",
            "432\n"
          ]
        }
      ],
      "source": [
        "def dairealanı_hesaplama(pi_değeri , yarıçap_bilgisi):\n",
        "    pi_değeri= int(input(\"Lütfen bir pi değeri giriniz:\"))\n",
        "    yarıçap_bilgisi= int(input(\"Lütfen yarıçap bilgisini giriniz:\"))\n",
        "    sonuç= pi_değeri * (yarıçap_bilgisi **2)\n",
        "    print(sonuç)\n",
        "dairealanı_hesaplama(3.2,12)\n"
      ]
    },
    {
      "cell_type": "markdown",
      "metadata": {
        "id": "k71LulD1DpVg"
      },
      "source": [
        "#### Ödev 2\n",
        "\n",
        "Faktöriyel adında fonksiyon oluşturulur. Döngü kullanarak parametre olarak girilen sayının faktöriyeli hesaplanır. Format metodunu kullanılarak ekrana yazdırılır."
      ]
    },
    {
      "cell_type": "code",
      "execution_count": 32,
      "metadata": {
        "vscode": {
          "languageId": "plaintext"
        },
        "id": "KNmt48wyDpVg",
        "colab": {
          "base_uri": "https://localhost:8080/",
          "height": 207
        },
        "outputId": "ba9848dc-ded3-4201-d737-7a54ea6f66cd"
      },
      "outputs": [
        {
          "output_type": "error",
          "ename": "KeyboardInterrupt",
          "evalue": "",
          "traceback": [
            "\u001b[0;31m---------------------------------------------------------------------------\u001b[0m",
            "\u001b[0;31mKeyboardInterrupt\u001b[0m                         Traceback (most recent call last)",
            "\u001b[0;32m/tmp/ipython-input-1012829091.py\u001b[0m in \u001b[0;36m<cell line: 0>\u001b[0;34m()\u001b[0m\n\u001b[0;32m----> 1\u001b[0;31m \u001b[0;32mwhile\u001b[0m \u001b[0;32mTrue\u001b[0m\u001b[0;34m:\u001b[0m\u001b[0;34m\u001b[0m\u001b[0;34m\u001b[0m\u001b[0m\n\u001b[0m\u001b[1;32m      2\u001b[0m       \u001b[0;32mdef\u001b[0m \u001b[0mfaktöriyel_hesaplama\u001b[0m\u001b[0;34m(\u001b[0m\u001b[0msayı\u001b[0m\u001b[0;34m)\u001b[0m\u001b[0;34m:\u001b[0m\u001b[0;34m\u001b[0m\u001b[0;34m\u001b[0m\u001b[0m\n\u001b[1;32m      3\u001b[0m           \u001b[0msonuç\u001b[0m\u001b[0;34m=\u001b[0m\u001b[0;36m1\u001b[0m\u001b[0;34m\u001b[0m\u001b[0;34m\u001b[0m\u001b[0m\n\u001b[1;32m      4\u001b[0m           \u001b[0msayı\u001b[0m\u001b[0;34m=\u001b[0m \u001b[0mint\u001b[0m\u001b[0;34m(\u001b[0m\u001b[0minput\u001b[0m\u001b[0;34m(\u001b[0m\u001b[0;34m\"Lütfen bir sayı giriniz:\"\u001b[0m\u001b[0;34m)\u001b[0m\u001b[0;34m)\u001b[0m\u001b[0;34m\u001b[0m\u001b[0;34m\u001b[0m\u001b[0m\n\u001b[1;32m      5\u001b[0m           \u001b[0;32mfor\u001b[0m \u001b[0mi\u001b[0m \u001b[0;32min\u001b[0m \u001b[0mrange\u001b[0m\u001b[0;34m(\u001b[0m\u001b[0;36m1\u001b[0m\u001b[0;34m,\u001b[0m \u001b[0msayı\u001b[0m \u001b[0;34m+\u001b[0m\u001b[0;36m1\u001b[0m\u001b[0;34m)\u001b[0m\u001b[0;34m:\u001b[0m\u001b[0;34m\u001b[0m\u001b[0;34m\u001b[0m\u001b[0m\n",
            "\u001b[0;31mKeyboardInterrupt\u001b[0m: "
          ]
        }
      ],
      "source": [
        "while True:\n",
        "      def faktöriyel_hesaplama(sayı):\n",
        "          sonuç=1\n",
        "          sayı= int(input(\"Lütfen bir sayı giriniz:\"))\n",
        "          for i in range(1, sayı +1):\n",
        "               sonuç *= i\n",
        "          print(\"Bu işlemin sonucu {} dır.\".format(sonuç))\n",
        "\n"
      ]
    },
    {
      "cell_type": "code",
      "source": [
        "def faktöriyel_hesaplama(sayı):\n",
        "    sonuç=1\n",
        "    sayı= int(input(\"Lütfen bir sayı giriniz:\"))\n",
        "    for i in range(1,sayı +1):\n",
        "        sonuç *= i\n",
        "    print(\"Bu işlemin sonucu {} dir.\".format(sonuç))\n",
        ""
      ],
      "metadata": {
        "id": "WyDEtMBcLHWe"
      },
      "execution_count": 2,
      "outputs": []
    },
    {
      "cell_type": "code",
      "source": [
        "faktöriyel_hesaplama(4)"
      ],
      "metadata": {
        "colab": {
          "base_uri": "https://localhost:8080/"
        },
        "id": "bmTl-gX-LSwo",
        "outputId": "0c25a84f-b999-4e19-aaf8-5abc6de0a355"
      },
      "execution_count": 7,
      "outputs": [
        {
          "output_type": "stream",
          "name": "stdout",
          "text": [
            "Lütfen bir sayı giriniz:4\n",
            "24\n"
          ]
        }
      ]
    },
    {
      "cell_type": "code",
      "source": [
        "faktöriyel_hesaplama(7)"
      ],
      "metadata": {
        "colab": {
          "base_uri": "https://localhost:8080/"
        },
        "id": "xtnBnaDxMKsS",
        "outputId": "ba782694-fd85-46f8-b301-8cd2a9e630f5"
      },
      "execution_count": 13,
      "outputs": [
        {
          "output_type": "stream",
          "name": "stdout",
          "text": [
            "Lütfen bir sayı giriniz:7\n",
            "Bu işlemin sonucu 5040 dir.\n"
          ]
        }
      ]
    },
    {
      "cell_type": "markdown",
      "metadata": {
        "id": "ZQ_nTt2_DpVg"
      },
      "source": [
        "#### Ödev 3\n",
        "Kişinin fonksiyona doğum yılını vererek kaç yaşında olduğunu hesaplayan bir fonksiyon oluşturun."
      ]
    },
    {
      "cell_type": "code",
      "execution_count": 25,
      "metadata": {
        "vscode": {
          "languageId": "plaintext"
        },
        "id": "AxIaOaPQDpVg"
      },
      "outputs": [],
      "source": [
        "def kişi_bilgisi(doğumyılı, şuankiyıl):\n",
        "    doğumyılı=int(input(\"Lütfen doğum yılınızı giriniz:\"))\n",
        "    şuankiyıl=int(input(\"Lütfen bulunduğunuz yılın tarihini giriniz:\"))\n",
        "    sonuç= şuankiyıl - doğumyılı\n",
        "    print(\"Bu kişi {} yaşındadır.\".format(sonuç))\n",
        "\n",
        "\n",
        "\n",
        ""
      ]
    },
    {
      "cell_type": "code",
      "source": [
        "kişi_bilgisi(1978,2025)\n"
      ],
      "metadata": {
        "colab": {
          "base_uri": "https://localhost:8080/"
        },
        "id": "pQhY_7lNuzr7",
        "outputId": "5ee0f753-c6da-437b-fc2d-9b98ef3240dc"
      },
      "execution_count": 26,
      "outputs": [
        {
          "output_type": "stream",
          "name": "stdout",
          "text": [
            "Lütfen doğum yılınızı giriniz:1978\n",
            "Lütfen bulunduğunuz yılın tarihini giriniz:2025\n",
            "Bu kişi 47 yaşındadır.\n"
          ]
        }
      ]
    },
    {
      "cell_type": "code",
      "source": [
        "kişi_bilgisi(2000,2025)"
      ],
      "metadata": {
        "colab": {
          "base_uri": "https://localhost:8080/"
        },
        "id": "Ps1ReQykvUft",
        "outputId": "ba1fcdaa-514a-4250-ea84-846f854649aa"
      },
      "execution_count": 27,
      "outputs": [
        {
          "output_type": "stream",
          "name": "stdout",
          "text": [
            "Lütfen doğum yılınızı giriniz:2000\n",
            "Lütfen bulunduğunuz yılın tarihini giriniz:2025\n",
            "Bu kişi 25 yaşındadır.\n"
          ]
        }
      ]
    },
    {
      "cell_type": "markdown",
      "metadata": {
        "id": "FxspKUrNDpVg"
      },
      "source": [
        "#### Ödev 4\n",
        "\n",
        "Doğum yılı ve isim bilgisi verilen fonksiyon kişinin emekli olup olmadığını söylesin.(Kişi 65 yaşında ise emekli olur.) Burada yaş hesabını yukarıdaki örnekteki fonksiyonu kullanarak yapsın.(Yani fonksiyon içinde fonksiyon kullanmanızı istiyorum :)) Kişi 65 yaşında ya da daha fazlaysa \"Emekli oldunuz\" yanıtını, 65 yaşından küçükse emekliliğine kaç yıl kaldığını da hesaplayarak \"(isim) emekliliğine (yıl) kaldı.\" yanıtını versin."
      ]
    },
    {
      "cell_type": "code",
      "execution_count": 45,
      "metadata": {
        "vscode": {
          "languageId": "plaintext"
        },
        "id": "yzpTNkAYDpVg"
      },
      "outputs": [],
      "source": [
        "def kişi_bilgisi(isim,doğumyılı,şuankiyıl):\n",
        "    isim=input(\"Lütfen isminizi yazınız:\")\n",
        "    doğumyılı= int(input(\"Lütfen doğum yılınızı giriniz:\"))\n",
        "    şuankiyıl=int(input(\"Lütfen bulunduğunuz yılı giriniz:\"))\n",
        "    yaş_hesabı= şuankiyıl - doğumyılı\n",
        "    emekli_yıl= 65 - yaş_hesabı\n",
        "    if yaş_hesabı >= 65:\n",
        "       print(f\" {isim} {yaş_hesabı} yaşındasın ve emekli oldunuz.\")\n",
        "    elif yaş_hesabı <65:\n",
        "       print(f\"{isim} {yaş_hesabı} yaşındasın ve emekliliğine {emekli_yıl} kaldı.\")\n",
        "\n",
        ""
      ]
    },
    {
      "cell_type": "code",
      "source": [
        "kişi_bilgisi('Ali','1975','2025')"
      ],
      "metadata": {
        "colab": {
          "base_uri": "https://localhost:8080/"
        },
        "id": "NTHKJrILzjHN",
        "outputId": "0dda14e8-faea-4a95-ecdb-25c3c10a139c"
      },
      "execution_count": 46,
      "outputs": [
        {
          "output_type": "stream",
          "name": "stdout",
          "text": [
            "Lütfen isminizi yazınız:Ali\n",
            "Lütfen doğum yılınızı giriniz:1975\n",
            "Lütfen bulunduğunuz yılı giriniz:2025\n",
            "Ali 50 yaşındasın ve emekliliğine 15 kaldı.\n"
          ]
        }
      ]
    },
    {
      "cell_type": "code",
      "source": [
        "kişi_bilgisi('Serhat','1980','2025,')"
      ],
      "metadata": {
        "colab": {
          "base_uri": "https://localhost:8080/"
        },
        "id": "hAQETsEk0pq8",
        "outputId": "81eae864-ccc4-43b2-9d15-1b50fe6b02a4"
      },
      "execution_count": 47,
      "outputs": [
        {
          "output_type": "stream",
          "name": "stdout",
          "text": [
            "Lütfen isminizi yazınız:Serhat\n",
            "Lütfen doğum yılınızı giriniz:1980\n",
            "Lütfen bulunduğunuz yılı giriniz:2025\n",
            "Serhat 45 yaşındasın ve emekliliğine 20 kaldı.\n"
          ]
        }
      ]
    }
  ],
  "metadata": {
    "language_info": {
      "name": "python"
    },
    "colab": {
      "provenance": []
    },
    "kernelspec": {
      "name": "python3",
      "display_name": "Python 3"
    }
  },
  "nbformat": 4,
  "nbformat_minor": 0
}